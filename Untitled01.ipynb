{
  "nbformat": 4,
  "nbformat_minor": 0,
  "metadata": {
    "colab": {
      "provenance": [],
      "collapsed_sections": [],
      "authorship_tag": "ABX9TyPfYzZDrYjWEsmxJeiHElAI",
      "include_colab_link": true
    },
    "kernelspec": {
      "name": "python3",
      "display_name": "Python 3"
    },
    "language_info": {
      "name": "python"
    }
  },
  "cells": [
    {
      "cell_type": "markdown",
      "metadata": {
        "id": "view-in-github",
        "colab_type": "text"
      },
      "source": [
        "<a href=\"https://colab.research.google.com/github/MINJEONG-L/chosun_ml/blob/main/Untitled01.ipynb\" target=\"_parent\"><img src=\"https://colab.research.google.com/assets/colab-badge.svg\" alt=\"Open In Colab\"/></a>"
      ]
    },
    {
      "cell_type": "code",
      "execution_count": null,
      "metadata": {
        "colab": {
          "base_uri": "https://localhost:8080/"
        },
        "id": "Gth7d2xVHLM5",
        "outputId": "79279e92-0e91-49cf-dcbb-16c9e9667d1a"
      },
      "outputs": [
        {
          "output_type": "stream",
          "name": "stdout",
          "text": [
            "Model: \"sequential\"\n",
            "_________________________________________________________________\n",
            " Layer (type)                Output Shape              Param #   \n",
            "=================================================================\n",
            " dense (Dense)               (None, 1)                 1         \n",
            "                                                                 \n",
            " dense_1 (Dense)             (None, 1)                 1         \n",
            "                                                                 \n",
            " dense_2 (Dense)             (None, 1)                 1         \n",
            "                                                                 \n",
            "=================================================================\n",
            "Total params: 3\n",
            "Trainable params: 3\n",
            "Non-trainable params: 0\n",
            "_________________________________________________________________\n"
          ]
        }
      ],
      "source": [
        "import tensorflow as tf\n",
        "import numpy as np\n",
        "\n",
        "model =  tf.keras.models.Sequential([\n",
        "    tf.keras.Input(shape=(1,)),\n",
        "    tf.keras.layers.Dense(units=1, activation='relu',use_bias = False),\n",
        "    tf.keras.layers.Dense(units=1, activation='relu',use_bias = False),\n",
        "    tf.keras.layers.Dense(units=1, activation=None, use_bias = False)\n",
        "])\n",
        "\n",
        "model.summary()"
      ]
    },
    {
      "cell_type": "code",
      "source": [
        "x_train = tf.constant([[3]])\n",
        "y_train = tf.constant([[1]])\n",
        "print(x_train)\n",
        "loss_fn = tf.keras.losses.MeanSquaredError()\n",
        "optimizer = tf.keras.optimizers.SGD(learning_rate = 0.01)   #더 나은 gradient 하강 방법 base는 경사하강이 맞음\n",
        "model.compile(optimizer=optimizer, loss = loss_fn)  #batch size 는 Default 로 일단 사용"
      ],
      "metadata": {
        "colab": {
          "base_uri": "https://localhost:8080/"
        },
        "id": "2IYGkytaHqiI",
        "outputId": "4c44a66f-720c-4b31-d1f2-658b72f0293a"
      },
      "execution_count": null,
      "outputs": [
        {
          "output_type": "stream",
          "name": "stdout",
          "text": [
            "tf.Tensor([[3]], shape=(1, 1), dtype=int32)\n"
          ]
        }
      ]
    },
    {
      "cell_type": "code",
      "source": [
        "model.fit(x_train, y_train, epochs = 1)"
      ],
      "metadata": {
        "colab": {
          "base_uri": "https://localhost:8080/"
        },
        "id": "O0Bl_eLNIlz0",
        "outputId": "ee58cb74-4634-4cca-871d-b12ca95f95fb"
      },
      "execution_count": null,
      "outputs": [
        {
          "output_type": "stream",
          "name": "stdout",
          "text": [
            "1/1 [==============================] - 0s 458ms/step - loss: 23.2795\n"
          ]
        },
        {
          "output_type": "execute_result",
          "data": {
            "text/plain": [
              "<keras.callbacks.History at 0x7f53de761910>"
            ]
          },
          "metadata": {},
          "execution_count": 10
        }
      ]
    },
    {
      "cell_type": "code",
      "source": [
        "model =  tf.keras.models.Sequential([\n",
        "    tf.keras.Input(shape=(1,)),\n",
        "    tf.keras.layers.Dense(units=1, activation='relu',use_bias = False),\n",
        "    tf.keras.layers.Dense(units=1, activation='relu',use_bias = False),\n",
        "    tf.keras.layers.Dense(units=1, activation=None, use_bias = False)\n",
        "])\n",
        "\n",
        "model.summary()\n",
        "\n"
      ],
      "metadata": {
        "id": "DwcXYRuqI4by",
        "colab": {
          "base_uri": "https://localhost:8080/"
        },
        "outputId": "5dac930e-e443-43a9-8f57-c690173cbf37"
      },
      "execution_count": null,
      "outputs": [
        {
          "output_type": "stream",
          "name": "stdout",
          "text": [
            "Model: \"sequential_1\"\n",
            "_________________________________________________________________\n",
            " Layer (type)                Output Shape              Param #   \n",
            "=================================================================\n",
            " dense_3 (Dense)             (None, 1)                 1         \n",
            "                                                                 \n",
            " dense_4 (Dense)             (None, 1)                 1         \n",
            "                                                                 \n",
            " dense_5 (Dense)             (None, 1)                 1         \n",
            "                                                                 \n",
            "=================================================================\n",
            "Total params: 3\n",
            "Trainable params: 3\n",
            "Non-trainable params: 0\n",
            "_________________________________________________________________\n"
          ]
        }
      ]
    },
    {
      "cell_type": "code",
      "source": [
        "x_train = tf.constant([[3]])\n",
        "y_train = tf.constant([[1]])\n",
        "model.compile(optimizer=optimizer, loss = loss_fn)  #batch size 는 Default 로 일단 사용\n",
        "model.fit(x_train, y_train, epochs = 10)"
      ],
      "metadata": {
        "colab": {
          "base_uri": "https://localhost:8080/"
        },
        "id": "amfoZC-QKkWV",
        "outputId": "7dc3e48a-4ee6-4524-dc9b-0c9e450ab396"
      },
      "execution_count": null,
      "outputs": [
        {
          "output_type": "stream",
          "name": "stdout",
          "text": [
            "Epoch 1/10\n",
            "1/1 [==============================] - 0s 151ms/step - loss: 24.5988\n",
            "Epoch 2/10\n",
            "1/1 [==============================] - 0s 10ms/step - loss: 0.0198\n",
            "Epoch 3/10\n",
            "1/1 [==============================] - 0s 6ms/step - loss: 0.0116\n",
            "Epoch 4/10\n",
            "1/1 [==============================] - 0s 7ms/step - loss: 0.0069\n",
            "Epoch 5/10\n",
            "1/1 [==============================] - 0s 7ms/step - loss: 0.0041\n",
            "Epoch 6/10\n",
            "1/1 [==============================] - 0s 7ms/step - loss: 0.0025\n",
            "Epoch 7/10\n",
            "1/1 [==============================] - 0s 7ms/step - loss: 0.0015\n",
            "Epoch 8/10\n",
            "1/1 [==============================] - 0s 7ms/step - loss: 9.1139e-04\n",
            "Epoch 9/10\n",
            "1/1 [==============================] - 0s 6ms/step - loss: 5.5538e-04\n",
            "Epoch 10/10\n",
            "1/1 [==============================] - 0s 6ms/step - loss: 3.3923e-04\n"
          ]
        },
        {
          "output_type": "execute_result",
          "data": {
            "text/plain": [
              "<keras.callbacks.History at 0x7f53de5f29d0>"
            ]
          },
          "metadata": {},
          "execution_count": 14
        }
      ]
    },
    {
      "cell_type": "code",
      "source": [],
      "metadata": {
        "id": "Aq7E8gsKKsBK"
      },
      "execution_count": null,
      "outputs": []
    }
  ]
}